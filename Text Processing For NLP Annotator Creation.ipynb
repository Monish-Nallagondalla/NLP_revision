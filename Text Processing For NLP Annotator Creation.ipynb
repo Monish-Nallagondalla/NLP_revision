{
 "cells": [
  {
   "cell_type": "markdown",
   "metadata": {},
   "source": [
    "# Sample text data "
   ]
  },
  {
   "cell_type": "code",
   "execution_count": 1,
   "metadata": {},
   "outputs": [],
   "source": [
    "data = [\n",
    "    (\"I love this product!\", \"positive\"),\n",
    "    (\"This is not what I expected.\", \"negative\"),\n",
    "    (\"The customer service was excellent.\", \"positive\"),\n",
    "    (\"The quality of the item is poor.\", \"negative\")\n",
    "]"
   ]
  },
  {
   "cell_type": "markdown",
   "metadata": {},
   "source": [
    "# Define the annotator "
   ]
  },
  {
   "cell_type": "code",
   "execution_count": 2,
   "metadata": {},
   "outputs": [],
   "source": [
    "\n",
    "\n",
    "def annotate_data(data):\n",
    "    annotated_data = []\n",
    "    for text,label in data:\n",
    "        annotated_data.append((text,label))\n",
    "\n",
    "    return annotated_data\n",
    "\n"
   ]
  },
  {
   "cell_type": "markdown",
   "metadata": {},
   "source": [
    "# Annotate the data "
   ]
  },
  {
   "cell_type": "code",
   "execution_count": 4,
   "metadata": {},
   "outputs": [
    {
     "name": "stdout",
     "output_type": "stream",
     "text": [
      "Annotate the data\n",
      "text:I love this product!\t label:positive\n",
      "text:This is not what I expected.\t label:negative\n",
      "text:The customer service was excellent.\t label:positive\n",
      "text:The quality of the item is poor.\t label:negative\n"
     ]
    }
   ],
   "source": [
    "print(\"Annotate the data\")\n",
    "annotated_data = annotate_data(data)\n",
    "for text , label in annotated_data:\n",
    "    print(f\"text:{text}\\t label:{label}\")\n"
   ]
  },
  {
   "cell_type": "code",
   "execution_count": null,
   "metadata": {},
   "outputs": [],
   "source": []
  }
 ],
 "metadata": {
  "kernelspec": {
   "display_name": "myenv",
   "language": "python",
   "name": "python3"
  },
  "language_info": {
   "codemirror_mode": {
    "name": "ipython",
    "version": 3
   },
   "file_extension": ".py",
   "mimetype": "text/x-python",
   "name": "python",
   "nbconvert_exporter": "python",
   "pygments_lexer": "ipython3",
   "version": "3.12.4"
  }
 },
 "nbformat": 4,
 "nbformat_minor": 4
}
