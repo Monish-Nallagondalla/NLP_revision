{
  "cells": [
    {
      "cell_type": "markdown",
      "metadata": {
        "id": "IkESMUSgQP44"
      },
      "source": [
        "**Step 1: Import Libraries**"
      ]
    },
    {
      "cell_type": "code",
      "execution_count": 1,
      "metadata": {
        "id": "KpXQsS8nP9e6"
      },
      "outputs": [],
      "source": [
        "import numpy as np\n",
        "import tensorflow as tf\n",
        "from tensorflow.keras.models import Sequential\n",
        "from tensorflow.keras.layers import Embedding, SimpleRNN, Dense\n",
        "from tensorflow.keras.preprocessing.text import Tokenizer\n",
        "from tensorflow.keras.preprocessing.sequence import pad_sequences\n"
      ]
    },
    {
      "cell_type": "markdown",
      "metadata": {
        "id": "qzRjXh2UQmSE"
      },
      "source": [
        "**Step 2: Sample Text Data and Labels**"
      ]
    },
    {
      "cell_type": "code",
      "execution_count": 2,
      "metadata": {
        "id": "lWAsqydTQM0X"
      },
      "outputs": [],
      "source": [
        "texts = [\n",
        "    \"This is a positive review.\",\n",
        "    \"I love this product.\",\n",
        "    \"Negative experience, would not recommend.\",\n",
        "    \"Terrible customer service.\",\n",
        "]\n",
        "\n",
        "labels = [1, 1, 0, 0]  # 1 for positive, 0 for negative\n"
      ]
    },
    {
      "cell_type": "markdown",
      "metadata": {
        "id": "Luk91-OgQ3zU"
      },
      "source": [
        "**Step 3: Tokenization and Padding**"
      ]
    },
    {
      "cell_type": "code",
      "execution_count": 3,
      "metadata": {
        "id": "qaktqP1rQ5UA"
      },
      "outputs": [],
      "source": [
        "tokenizer = Tokenizer(num_words=1000, oov_token=\"<OOV>\")\n",
        "tokenizer.fit_on_texts(texts)\n",
        "sequences = tokenizer.texts_to_sequences(texts)\n",
        "padded_sequences = pad_sequences(sequences, maxlen=10, padding=\"post\", truncating=\"post\")\n",
        "\n"
      ]
    },
    {
      "cell_type": "markdown",
      "metadata": {
        "id": "Ms3qhNHBREQv"
      },
      "source": [
        "**Step 4: Define the RNN Model**"
      ]
    },
    {
      "cell_type": "code",
      "execution_count": 4,
      "metadata": {
        "id": "o3HR8sELRGDE"
      },
      "outputs": [
        {
          "name": "stderr",
          "output_type": "stream",
          "text": [
            "c:\\Users\\MONISH\\anaconda3\\envs\\myenv\\Lib\\site-packages\\keras\\src\\layers\\core\\embedding.py:90: UserWarning: Argument `input_length` is deprecated. Just remove it.\n",
            "  warnings.warn(\n"
          ]
        }
      ],
      "source": [
        "model = Sequential()\n",
        "\n",
        "model.add(Embedding(input_dim=1000, output_dim=16, input_length=10))\n",
        "model.add(SimpleRNN(32))\n",
        "model.add(Dense(1, activation=\"sigmoid\"))\n"
      ]
    },
    {
      "cell_type": "markdown",
      "metadata": {
        "id": "jEu9aVjsRSTD"
      },
      "source": [
        "**Step 5: Compile the Model**"
      ]
    },
    {
      "cell_type": "code",
      "execution_count": 5,
      "metadata": {
        "id": "usQbAvHJRTk4"
      },
      "outputs": [],
      "source": [
        "model.compile(optimizer=\"adam\", loss=\"binary_crossentropy\", metrics=[\"accuracy\"])\n",
        "\n"
      ]
    },
    {
      "cell_type": "markdown",
      "metadata": {
        "id": "j4IJjyS4Ra7v"
      },
      "source": [
        "**Step 6: Train the Model**"
      ]
    },
    {
      "cell_type": "code",
      "execution_count": 6,
      "metadata": {
        "id": "AQ9Y_egWRcfO"
      },
      "outputs": [],
      "source": [
        "model = Sequential()\n",
        "\n",
        "model.add(Embedding(input_dim=1000, output_dim=16, input_length=10))\n",
        "model.add(SimpleRNN(32))\n",
        "model.add(Dense(1, activation=\"sigmoid\"))\n",
        "\n"
      ]
    },
    {
      "cell_type": "markdown",
      "metadata": {
        "id": "_bynmg7KRmpc"
      },
      "source": [
        "**Step 7: Make Predictions**"
      ]
    },
    {
      "cell_type": "code",
      "execution_count": 7,
      "metadata": {
        "colab": {
          "base_uri": "https://localhost:8080/"
        },
        "id": "8Gm5mmNmRoTk",
        "outputId": "a2895da4-282b-473e-d3c1-239d630c28f7"
      },
      "outputs": [
        {
          "name": "stdout",
          "output_type": "stream",
          "text": [
            "\u001b[1m1/1\u001b[0m \u001b[32m━━━━━━━━━━━━━━━━━━━━\u001b[0m\u001b[37m\u001b[0m \u001b[1m0s\u001b[0m 472ms/step\n",
            "Text: Great service! | Predicted sentiment: positive\n",
            "Text: Awful experience. | Predicted sentiment: positive\n"
          ]
        }
      ],
      "source": [
        "test_texts = [\"Great service!\", \"Awful experience.\"]\n",
        "test_sequences = tokenizer.texts_to_sequences(test_texts)\n",
        "padded_test_sequences = pad_sequences(test_sequences, maxlen=10, padding=\"post\", truncating=\"post\")\n",
        "predictions = model.predict(padded_test_sequences)\n",
        "\n",
        "for i, text in enumerate(test_texts):\n",
        "    sentiment = \"positive\" if predictions[i] > 0.5 else \"negative\"\n",
        "    print(f\"Text: {text} | Predicted sentiment: {sentiment}\")\n"
      ]
    },
    {
      "cell_type": "code",
      "execution_count": null,
      "metadata": {},
      "outputs": [],
      "source": []
    }
  ],
  "metadata": {
    "colab": {
      "provenance": []
    },
    "kernelspec": {
      "display_name": "myenv",
      "language": "python",
      "name": "python3"
    },
    "language_info": {
      "codemirror_mode": {
        "name": "ipython",
        "version": 3
      },
      "file_extension": ".py",
      "mimetype": "text/x-python",
      "name": "python",
      "nbconvert_exporter": "python",
      "pygments_lexer": "ipython3",
      "version": "3.12.4"
    }
  },
  "nbformat": 4,
  "nbformat_minor": 0
}
