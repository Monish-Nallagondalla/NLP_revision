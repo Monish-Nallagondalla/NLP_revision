{
 "cells": [
  {
   "cell_type": "code",
   "execution_count": 1,
   "metadata": {},
   "outputs": [],
   "source": [
    "import requests\n",
    "from bs4 import BeautifulSoup\n",
    "import re \n",
    "from nltk.tokenize import word_tokenize\n",
    "from nltk.corpus import stopwords\n",
    "from nltk.stem import PorterStemmer"
   ]
  },
  {
   "cell_type": "code",
   "execution_count": 8,
   "metadata": {},
   "outputs": [
    {
     "name": "stderr",
     "output_type": "stream",
     "text": [
      "[nltk_data] Downloading package punkt_tab to\n",
      "[nltk_data]     C:\\Users\\MONISH\\AppData\\Roaming\\nltk_data...\n",
      "[nltk_data]   Unzipping tokenizers\\punkt_tab.zip.\n"
     ]
    },
    {
     "data": {
      "text/plain": [
       "True"
      ]
     },
     "execution_count": 8,
     "metadata": {},
     "output_type": "execute_result"
    }
   ],
   "source": [
    "# # import nltk \n",
    "# # nltk.download()\n",
    "\n",
    "# import nltk\n",
    "# nltk.download('punkt_tab')\n"
   ]
  },
  {
   "cell_type": "markdown",
   "metadata": {},
   "source": [
    "# Fetch and Parse HTML"
   ]
  },
  {
   "cell_type": "code",
   "execution_count": 3,
   "metadata": {},
   "outputs": [],
   "source": [
    "url = \"https://en.wikipedia.org/wiki/Independence_Day_(India)\" \n",
    "response = requests.get(url)\n",
    "\n",
    "html_content = response.content\n",
    "\n",
    "soup = BeautifulSoup(html_content,'html.parser')"
   ]
  },
  {
   "cell_type": "markdown",
   "metadata": {},
   "source": [
    "# Extract Text Data\n",
    "Once you have the parsed HTML, extract the relevant text data using various methods such as .find(), .find_all(), and .get_text()."
   ]
  },
  {
   "cell_type": "code",
   "execution_count": 4,
   "metadata": {},
   "outputs": [],
   "source": [
    "paragraphs = soup.find_all('p')\n",
    "\n",
    "paragraph_texts = [paragraph.get_text() for paragraph in paragraphs]\n",
    "\n"
   ]
  },
  {
   "cell_type": "markdown",
   "metadata": {},
   "source": [
    "# Text Preprocessing\n",
    "Text preprocessing involves various steps to clean and normalize the extracted text."
   ]
  },
  {
   "cell_type": "code",
   "execution_count": 9,
   "metadata": {},
   "outputs": [],
   "source": [
    "# Convert to lowercase\n",
    "lowercase_text = [text.lower() for text in paragraph_texts]\n",
    "\n",
    "# Remove special characters using regex\n",
    "cleaned_text = [re.sub(r'[^a-zA-Z0-9\\s]', '', text) for text in lowercase_text]\n",
    "\n",
    "# Tokenization\n",
    "tokenized_text = [word_tokenize(text) for text in cleaned_text]\n",
    "\n",
    "# Remove stopwords\n",
    "stop_words = set(stopwords.words('english'))\n",
    "filtered_text = [[word for word in tokens if word not in stop_words] for tokens in tokenized_text]\n",
    "\n",
    "# Stemming\n",
    "stemmer = PorterStemmer()\n",
    "stemmed_text = [[stemmer.stem(word) for word in tokens] for tokens in filtered_text]"
   ]
  },
  {
   "cell_type": "markdown",
   "metadata": {},
   "source": [
    "# Further Processing\n",
    "\n",
    "You can perform additional steps such as removing empty tokens, converting the processed text back to sentences or paragraphs, and so on, based on your requirements."
   ]
  },
  {
   "cell_type": "code",
   "execution_count": 10,
   "metadata": {},
   "outputs": [],
   "source": [
    "final_text =[[word for word in tokens if word.strip()] for tokens in stemmed_text]\n",
    "\n",
    "sentences = [' '.join(tokens) for tokens in final_text ]\n",
    "\n",
    "processed_paragraphs = '\\n\\n'.join(sentences)"
   ]
  },
  {
   "cell_type": "markdown",
   "metadata": {},
   "source": [
    "Save"
   ]
  },
  {
   "cell_type": "code",
   "execution_count": 11,
   "metadata": {},
   "outputs": [
    {
     "name": "stdout",
     "output_type": "stream",
     "text": [
      "accept version page\n",
      "\n",
      "\n",
      "\n",
      "independ day celebr annual 15 august public holiday india commemor nation independ unit kingdom 15 august 1947 day indian independ act 1947 came effect transfer legisl sovereignti indian constitu assembl india attain independ follow independ movement note larg nonviol resist civil disobedi led indian nation congress leadership mahatma gandhi1\n",
      "\n",
      "independ coincid partit india2 british india divid dominion india pakistan partit accompani violent riot mass casualti 15 august 1947 first prime minist india jawaharl nehru rais indian nation flag lahori gate red fort delhi subsequ independ day incumb prime minist customarili rais flag give address nation3 entir event broadcast doordarshan india nation broadcast usual begin shehnai music ustad bismillah khan independ day observ throughout india flaghoist ceremoni parad cultur event nation holiday country456\n",
      "\n",
      "european trader establish outpost indian subcontin late 17th centuri overwhelm militari strength east india compani fought annex local kingdom establish domin forc 18th centuri follow indian rebellion 1857 govern india act 1858 led british crown assum direct control india decad follow civic societi gradual emerg across india notabl indian nation congress parti form 188571 123 period world war mark coloni reform montaguchelmsford reform also wit enact unpopular rowlatt act call selfrul indian activist discont period crystallis nationwid nonviol movement noncooper civil disobedi led mahatma gandhi1 167\n",
      "\n",
      "1930 reform gradual legisl british congress victori result elections1 195197 next decad beset polit turmoil indian particip world war ii congress final push noncooper upsurg muslim nation led allindia muslim leagu escal polit tension cap independ 1947 jubil temper bloodi partit coloni india india pakistan1 203\n",
      "\n",
      "hasrat mohani first person indian histori demand complet independ azadiekaamil 1929 session indian nation congress purna swaraj declar declar independ india promulgated8 26 januari declar independ day 19308 congress call peopl pledg civil disobedi carri congress instruct issu time time india attain complet independence9 celebr independ day envis stoke nationalist fervour among indian citizen forc british govern consid grant independence10 19 congress observ 26 januari independ day 1930 19461112 celebr mark meet attend took pledg independence10 1920 jawaharl nehru describ autobiographi meet peac solemn without speech exhortation13 gandhi envisag besid meet day would spent construct work whether spin servic untouch reunion hindu mussalman prohibit work even together14 follow actual independ 1947 constitut india came effect 26 januari 1950 sinc 26 januari celebr republ day\n",
      "\n",
      "1946 labour govern britain exchequ exhaust recent conclud world war ii realis neither mandat home intern support reliabl nativ forc continu maintain control increasingli restless india1 203 151617 20 februari 1947 prime minist clement attle announc british govern would grant full selfgovern british india june 1948 latest18\n",
      "\n",
      "new viceroy lord mountbatten advanc date transfer power believ continu content congress muslim leagu might lead collaps interim government19 chose second anniversari japan surrend world war ii 15 august date power transfer19 british govern announc 3 june 1947 accept idea partit british india two states18 successor govern would given dominion statu would implicit right seced british commonwealth indian independ act 1947 10 11 geo 6 c 30 parliament unit kingdom partit british india two new independ dominion india pakistan includ bangladesh effect 15 august 1947 grant complet legisl author upon respect constitu assembl new countries20 act receiv royal assent 18 juli 1947\n",
      "\n",
      "million muslim sikh hindu refuge trek newli drawn border month surround independence21 punjab border divid sikh region halv massiv bloodsh follow bengal bihar mahatma gandhi presenc assuag commun temper violenc mitig 250000 1000000 peopl side new border die violence22 entir nation celebr independ day gandhi stay calcutta attempt stem carnage23 14 august 1947 independ day pakistan new dominion pakistan came muhammad ali jinnah sworn first governor gener karachi\n",
      "\n",
      "constitu assembl india met fifth session 11 pm 14 august constitut hall new delhi24 session chair presid rajendra prasad session jawaharl nehru deliv tryst destini speech proclaim india independ\n",
      "\n",
      "long year ago made tryst destini time come shall redeem pledg wholli full measur substanti stroke midnight hour world sleep india awak life freedom moment come come rare histori step old new age end soul nation long suppress find utter fit solemn moment take pledg dedic servic india peopl still larger caus human\n",
      "\n",
      "member assembl formal took pledg servic countri group women repres women india formal present nation flag assembl\n",
      "\n",
      "dominion india becam independ countri offici ceremoni took place new delhi nehru assum offic first prime minist viceroy lord mountbatten continu first governor general26 6 gandhi name invok crowd celebr occas gandhi howev took part offici event instead mark day 24hour fast spoke crowd calcutta encourag peac hindu muslims26 10\n",
      "\n",
      "0830 swear governor gener minist govern house0940 process minist constitu assembly0950 state drive constitu assembly0955 royal salut governor general1030 hoist nation flag constitu assembly1035 state drive govern house0600 pm flag ceremoni india gate0700 pm illuminations0745 pm firework display0845 pm offici dinner govern house1015 pm recept govern offic\n",
      "\n",
      "independ day one three nation holiday india two republ day 26 januari mahatma gandhi birthday 2 octob observ indian state union territori eve independ day presid india deliv address nation 15 august prime minist hoist indian flag rampart histor site red fort delhi3 speech prime minist highlight past year achiev rais import issu call develop pay tribut leader indian independ movement indian nation anthem jana gana mana sung speech follow march past divis indian arm forc paramilitari forc parad pageant showcas scene independ struggl india divers cultur tradit similar event take place state capit chief minist individu state unfurl nation flag follow parad pageants2728 1973 governor state hoist nation flag state capit februari 1974 chief minist tamil nadu karunanidhi took issu prime minist indira gandhi chief minist like prime minist allow hoist nation flag independ day sinc 1974 chief minist respect state allow hoist nation flag independ day2930\n",
      "\n",
      "flaghoist ceremoni cultur programm take place government nongovernment institut throughout country31 school colleg conduct flag hoist ceremoni variou cultur event government nongovernment institut decor premis paper balloon decor hang freedom fighter portrait wall major govern build often adorn string lights32 delhi citi kite fli add occasion3334 nation flag differ size use abundantli symbolis allegi country35 citizen adorn cloth wristband car household accessori replica tricolour35 period time celebr chang emphasi nation broader celebr thing india3637\n",
      "\n",
      "place nadia west bengal independ day celebr 1718 august instead 15 august rest nadia district except nabadwip becom part pakistan map draw error error correct night 17 august popular protests3839\n",
      "\n",
      "indian diaspora celebr independ day around world parad pageant particularli region higher concentr indian immigrants40 locat new york us citi 15 august becom india day among diaspora local populac pageant celebr india day either 15 august adjoin weekend day41\n",
      "\n",
      "earli three year independ naga nation council call boycott independ day northeast india42 separatist protest region intensifi 1980 call boycott terrorist attack insurg organis unit liber front assam nation democrat front bodoland mar celebrations43 increas insurg jammu kashmir late 1980s44 separatist protest boycot independ day bandh strike use black flag flag burning454647 terrorist group lashkaretaiba hizbul mujahideen jaishemoham issu threat carri attack around independ day48 boycot celebr also advoc insurg maoist rebel organisations4950\n",
      "\n",
      "anticip terrorist attack particularli milit secur measur intensifi especi major citi delhi mumbai troubl state jammu kashmir5152 airspac around red fort declar nofli zone prevent aerial attacks53 addit polic forc deploy cities54\n",
      "\n",
      "sinc assassin indira gandhi prime minist would give speech behind bulletproof glass panel55 sinc 2014 narendra modi elect prime minist away tradition56 nevertheless addit intens measur taken ensur secur modi57\n",
      "\n",
      "independ day republ day patriot song region languag broadcast televis radio channels58 also play alongsid flaghoist ceremonies58 patriot film broadcast31 decad accord time india number film broadcast decreas channel report audienc oversatur patriot films59 popul belong gener often combin nation popular cultur celebr mixtur exemplifi outfit savouri dy tricolour garment repres india variou cultur traditions3660 shop often offer independ day sale promotions6162 news report decri commercialism616364 indian postal servic publish commemor stamp depict independ movement leader nationalist theme defencerel theme 15 august65\n",
      "\n",
      "independ partit inspir literari artist creations66 creation mostli describ human cost partit limit holiday small part narrative6768 salman rushdi novel midnight children 1980 booker prize booker booker wove narr around children born midnight 1415 august 1947 magic abilities68 freedom midnight 1975 nonfict work larri collin dominiqu lapierr chronicl event surround first independ day celebr 1947 film centr moment independence697071 instead highlight circumst partit aftermath697273 internet googl commemor independ day india sinc 2003 special doodl indian homepage74\n"
     ]
    }
   ],
   "source": [
    "with open('processed_text.txt','w',encoding='utf-8') as file:\n",
    "    file.write(processed_paragraphs)\n",
    "\n",
    "print(processed_paragraphs)"
   ]
  },
  {
   "cell_type": "code",
   "execution_count": null,
   "metadata": {},
   "outputs": [],
   "source": []
  }
 ],
 "metadata": {
  "kernelspec": {
   "display_name": "myenv",
   "language": "python",
   "name": "python3"
  },
  "language_info": {
   "codemirror_mode": {
    "name": "ipython",
    "version": 3
   },
   "file_extension": ".py",
   "mimetype": "text/x-python",
   "name": "python",
   "nbconvert_exporter": "python",
   "pygments_lexer": "ipython3",
   "version": "3.12.4"
  }
 },
 "nbformat": 4,
 "nbformat_minor": 2
}
