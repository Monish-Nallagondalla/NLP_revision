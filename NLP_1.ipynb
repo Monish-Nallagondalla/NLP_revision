{
 "cells": [
  {
   "cell_type": "code",
   "execution_count": 24,
   "metadata": {},
   "outputs": [
    {
     "name": "stderr",
     "output_type": "stream",
     "text": [
      "[nltk_data] Downloading package punkt to\n",
      "[nltk_data]     C:\\Users\\MONISH\\AppData\\Roaming\\nltk_data...\n",
      "[nltk_data]   Package punkt is already up-to-date!\n",
      "[nltk_data] Downloading package stopwords to\n",
      "[nltk_data]     C:\\Users\\MONISH\\AppData\\Roaming\\nltk_data...\n",
      "[nltk_data]   Package stopwords is already up-to-date!\n",
      "[nltk_data] Downloading package wordnet to\n",
      "[nltk_data]     C:\\Users\\MONISH\\AppData\\Roaming\\nltk_data...\n",
      "[nltk_data]   Package wordnet is already up-to-date!\n"
     ]
    }
   ],
   "source": [
    "import nltk\n",
    "\n",
    "nltk.download('punkt') #for sentence tokenization\n",
    "\n",
    "nltk.download('stopwords')\n",
    "nltk.download('wordnet')\n",
    "from nltk.stem import PorterStemmer\n",
    "from nltk.corpus import stopwords\n",
    "#"
   ]
  },
  {
   "cell_type": "code",
   "execution_count": 25,
   "metadata": {},
   "outputs": [],
   "source": [
    "paragraph = \"\"\"Artificial intelligence (AI), in its broadest sense,\n",
    "is intelligence exhibited by machines, particularly computer systems. \n",
    "It is a field of research in computer science that develops and studies \n",
    "methods and software that enable machines to perceive their environment\n",
    " and use learning and intelligence to take actions that maximize their chances \n",
    " of achieving defined goals.[1] Such machines may be called AIs.\"\"\""
   ]
  },
  {
   "cell_type": "code",
   "execution_count": 26,
   "metadata": {},
   "outputs": [],
   "source": [
    "sentences = nltk.sent_tokenize(paragraph)"
   ]
  },
  {
   "cell_type": "code",
   "execution_count": 27,
   "metadata": {},
   "outputs": [
    {
     "data": {
      "text/plain": [
       "3"
      ]
     },
     "execution_count": 27,
     "metadata": {},
     "output_type": "execute_result"
    }
   ],
   "source": [
    "len(sentences)"
   ]
  },
  {
   "cell_type": "code",
   "execution_count": 28,
   "metadata": {},
   "outputs": [
    {
     "data": {
      "text/plain": [
       "['Artificial',\n",
       " 'intelligence',\n",
       " '(',\n",
       " 'AI',\n",
       " ')',\n",
       " ',',\n",
       " 'in',\n",
       " 'its',\n",
       " 'broadest',\n",
       " 'sense',\n",
       " ',',\n",
       " 'is',\n",
       " 'intelligence',\n",
       " 'exhibited',\n",
       " 'by',\n",
       " 'machines',\n",
       " ',',\n",
       " 'particularly',\n",
       " 'computer',\n",
       " 'systems',\n",
       " '.',\n",
       " 'It',\n",
       " 'is',\n",
       " 'a',\n",
       " 'field',\n",
       " 'of',\n",
       " 'research',\n",
       " 'in',\n",
       " 'computer',\n",
       " 'science',\n",
       " 'that',\n",
       " 'develops',\n",
       " 'and',\n",
       " 'studies',\n",
       " 'methods',\n",
       " 'and',\n",
       " 'software',\n",
       " 'that',\n",
       " 'enable',\n",
       " 'machines',\n",
       " 'to',\n",
       " 'perceive',\n",
       " 'their',\n",
       " 'environment',\n",
       " 'and',\n",
       " 'use',\n",
       " 'learning',\n",
       " 'and',\n",
       " 'intelligence',\n",
       " 'to',\n",
       " 'take',\n",
       " 'actions',\n",
       " 'that',\n",
       " 'maximize',\n",
       " 'their',\n",
       " 'chances',\n",
       " 'of',\n",
       " 'achieving',\n",
       " 'defined',\n",
       " 'goals',\n",
       " '.',\n",
       " '[',\n",
       " '1',\n",
       " ']',\n",
       " 'Such',\n",
       " 'machines',\n",
       " 'may',\n",
       " 'be',\n",
       " 'called',\n",
       " 'AIs',\n",
       " '.']"
      ]
     },
     "execution_count": 28,
     "metadata": {},
     "output_type": "execute_result"
    }
   ],
   "source": [
    "words = nltk.word_tokenize(paragraph)\n",
    "words "
   ]
  },
  {
   "cell_type": "code",
   "execution_count": 29,
   "metadata": {},
   "outputs": [
    {
     "data": {
      "text/plain": [
       "71"
      ]
     },
     "execution_count": 29,
     "metadata": {},
     "output_type": "execute_result"
    }
   ],
   "source": [
    "len(words)"
   ]
  },
  {
   "cell_type": "code",
   "execution_count": 30,
   "metadata": {},
   "outputs": [
    {
     "name": "stdout",
     "output_type": "stream",
     "text": [
      "['artifici intellig ( ai ) , broadest sens , intellig exhibit machin , particularli comput system .', 'it field research comput scienc develop studi method softwar enabl machin perceiv environ use learn intellig take action maxim chanc achiev defin goal .', '[ 1 ] such machin may call ai .']\n"
     ]
    }
   ],
   "source": [
    "stemmer = PorterStemmer()\n",
    "\n",
    "for i in range(len(sentences)):\n",
    "    words = nltk.word_tokenize(sentences[i])\n",
    "    words = [stemmer.stem(word) for word in words if word not in set(nltk.corpus.stopwords.words('english'))]\n",
    "    sentences[i] = ' '.join(words)\n",
    "\n",
    "print(sentences)\n"
   ]
  },
  {
   "cell_type": "code",
   "execution_count": 35,
   "metadata": {},
   "outputs": [
    {
     "name": "stdout",
     "output_type": "stream",
     "text": [
      "['Artificial intelligence ( AI ) , broadest sense , intelligence exhibited machine , particularly computer system .', 'It field research computer science develops study method software enable machine perceive environment use learning intelligence take action maximize chance achieving defined goal .', '[ 1 ] Such machine may called AIs .']\n"
     ]
    }
   ],
   "source": [
    "from nltk.stem import WordNetLemmatizer \n",
    "lemmatizer = WordNetLemmatizer()\n",
    "\n",
    "sentences = nltk.sent_tokenize(paragraph)\n",
    "for i in range(len(sentences)):\n",
    "    words = nltk.word_tokenize(sentences[i])\n",
    "    words = [lemmatizer.lemmatize(word) for word in words if word not in set(nltk.corpus.stopwords.words('english'))]\n",
    "    sentences[i] = ' '.join(words)\n",
    "\n",
    "print(sentences)"
   ]
  },
  {
   "cell_type": "code",
   "execution_count": null,
   "metadata": {},
   "outputs": [],
   "source": []
  }
 ],
 "metadata": {
  "kernelspec": {
   "display_name": "myenv",
   "language": "python",
   "name": "python3"
  },
  "language_info": {
   "codemirror_mode": {
    "name": "ipython",
    "version": 3
   },
   "file_extension": ".py",
   "mimetype": "text/x-python",
   "name": "python",
   "nbconvert_exporter": "python",
   "pygments_lexer": "ipython3",
   "version": "3.12.4"
  }
 },
 "nbformat": 4,
 "nbformat_minor": 2
}
